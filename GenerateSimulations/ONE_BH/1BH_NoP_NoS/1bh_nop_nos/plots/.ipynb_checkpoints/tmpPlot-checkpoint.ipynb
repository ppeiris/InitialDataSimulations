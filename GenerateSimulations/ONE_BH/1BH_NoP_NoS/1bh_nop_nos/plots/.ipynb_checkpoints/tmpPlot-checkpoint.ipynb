{
 "cells": [
  {
   "cell_type": "code",
   "execution_count": 45,
   "metadata": {
    "collapsed": true
   },
   "outputs": [],
   "source": [
    "import numpy as np\n",
    "import scipy as sp\n",
    "import matplotlib\n",
    "import matplotlib.pyplot as plt\n",
    "import pandas as pd\n",
    "%matplotlib inline\n",
    "pd.set_option('display.precision', 30)\n",
    "axisArr=['d','x','y','z']\n",
    "caseArr=['near','mid','far']\n",
    "hamiltonian_colnames = ['it','tl','rl','c','ml','ix','iy','iz','time','x','y','z','data']"
   ]
  },
  {
   "cell_type": "code",
   "execution_count": 131,
   "metadata": {
    "collapsed": true
   },
   "outputs": [],
   "source": [
    "dataFiled = '../manybhmid_1bh_nop_nos_12x13x17/admconstraints-hamiltonian.d.asc'"
   ]
  },
  {
   "cell_type": "code",
   "execution_count": 166,
   "metadata": {
    "collapsed": false
   },
   "outputs": [],
   "source": [
    "data = pd.read_table(dataFiled, sep='\\t', comment='#', names=hamiltonian_colnames)\n",
    "data = data[data.it == 0]"
   ]
  },
  {
   "cell_type": "code",
   "execution_count": 167,
   "metadata": {
    "collapsed": false
   },
   "outputs": [
    {
     "data": {
      "text/html": [
       "<div>\n",
       "<table border=\"1\" class=\"dataframe\">\n",
       "  <thead>\n",
       "    <tr style=\"text-align: right;\">\n",
       "      <th></th>\n",
       "      <th>it</th>\n",
       "      <th>tl</th>\n",
       "      <th>rl</th>\n",
       "      <th>c</th>\n",
       "      <th>ml</th>\n",
       "      <th>ix</th>\n",
       "      <th>iy</th>\n",
       "      <th>iz</th>\n",
       "      <th>time</th>\n",
       "      <th>x</th>\n",
       "      <th>y</th>\n",
       "      <th>z</th>\n",
       "      <th>data</th>\n",
       "    </tr>\n",
       "  </thead>\n",
       "  <tbody>\n",
       "    <tr>\n",
       "      <th>0</th>\n",
       "      <td>0</td>\n",
       "      <td>0 0 0 0</td>\n",
       "      <td>0 0 0</td>\n",
       "      <td>0.0</td>\n",
       "      <td>-2 -0.0125 -0.0125</td>\n",
       "      <td>-0.000000025065770486998301235059</td>\n",
       "      <td>NaN</td>\n",
       "      <td>NaN</td>\n",
       "      <td>NaN</td>\n",
       "      <td>NaN</td>\n",
       "      <td>NaN</td>\n",
       "      <td>NaN</td>\n",
       "      <td>NaN</td>\n",
       "    </tr>\n",
       "    <tr>\n",
       "      <th>1</th>\n",
       "      <td>0</td>\n",
       "      <td>0 0 0 0</td>\n",
       "      <td>1 1 1</td>\n",
       "      <td>0.0</td>\n",
       "      <td>-1.996875 -0.009375 -0.009375</td>\n",
       "      <td>-0.000000025065770486998301235059</td>\n",
       "      <td>NaN</td>\n",
       "      <td>NaN</td>\n",
       "      <td>NaN</td>\n",
       "      <td>NaN</td>\n",
       "      <td>NaN</td>\n",
       "      <td>NaN</td>\n",
       "      <td>NaN</td>\n",
       "    </tr>\n",
       "    <tr>\n",
       "      <th>2</th>\n",
       "      <td>0</td>\n",
       "      <td>0 0 0 0</td>\n",
       "      <td>2 2 2</td>\n",
       "      <td>0.0</td>\n",
       "      <td>-1.99375 -0.00625 -0.00625</td>\n",
       "      <td>-0.000000000442520717985895021086</td>\n",
       "      <td>NaN</td>\n",
       "      <td>NaN</td>\n",
       "      <td>NaN</td>\n",
       "      <td>NaN</td>\n",
       "      <td>NaN</td>\n",
       "      <td>NaN</td>\n",
       "      <td>NaN</td>\n",
       "    </tr>\n",
       "    <tr>\n",
       "      <th>3</th>\n",
       "      <td>0</td>\n",
       "      <td>0 0 0 0</td>\n",
       "      <td>3 3 3</td>\n",
       "      <td>0.0</td>\n",
       "      <td>-1.990625 -0.003125 -0.003125</td>\n",
       "      <td>0.000000000386254705303512993507</td>\n",
       "      <td>NaN</td>\n",
       "      <td>NaN</td>\n",
       "      <td>NaN</td>\n",
       "      <td>NaN</td>\n",
       "      <td>NaN</td>\n",
       "      <td>NaN</td>\n",
       "      <td>NaN</td>\n",
       "    </tr>\n",
       "    <tr>\n",
       "      <th>4</th>\n",
       "      <td>0</td>\n",
       "      <td>0 0 0 0</td>\n",
       "      <td>4 4 4</td>\n",
       "      <td>0.0</td>\n",
       "      <td>-1.9875 0 0</td>\n",
       "      <td>0.000000000461833564446844994906</td>\n",
       "      <td>NaN</td>\n",
       "      <td>NaN</td>\n",
       "      <td>NaN</td>\n",
       "      <td>NaN</td>\n",
       "      <td>NaN</td>\n",
       "      <td>NaN</td>\n",
       "      <td>NaN</td>\n",
       "    </tr>\n",
       "  </tbody>\n",
       "</table>\n",
       "</div>"
      ],
      "text/plain": [
       "   it       tl     rl    c                             ml  \\\n",
       "0   0  0 0 0 0  0 0 0  0.0             -2 -0.0125 -0.0125   \n",
       "1   0  0 0 0 0  1 1 1  0.0  -1.996875 -0.009375 -0.009375   \n",
       "2   0  0 0 0 0  2 2 2  0.0     -1.99375 -0.00625 -0.00625   \n",
       "3   0  0 0 0 0  3 3 3  0.0  -1.990625 -0.003125 -0.003125   \n",
       "4   0  0 0 0 0  4 4 4  0.0                    -1.9875 0 0   \n",
       "\n",
       "                                 ix  iy  iz  time   x   y   z  data  \n",
       "0 -0.000000025065770486998301235059 NaN NaN   NaN NaN NaN NaN   NaN  \n",
       "1 -0.000000025065770486998301235059 NaN NaN   NaN NaN NaN NaN   NaN  \n",
       "2 -0.000000000442520717985895021086 NaN NaN   NaN NaN NaN NaN   NaN  \n",
       "3  0.000000000386254705303512993507 NaN NaN   NaN NaN NaN NaN   NaN  \n",
       "4  0.000000000461833564446844994906 NaN NaN   NaN NaN NaN NaN   NaN  "
      ]
     },
     "execution_count": 167,
     "metadata": {},
     "output_type": "execute_result"
    }
   ],
   "source": [
    "data.head()"
   ]
  },
  {
   "cell_type": "code",
   "execution_count": 168,
   "metadata": {
    "collapsed": true
   },
   "outputs": [],
   "source": [
    "data['axis'] = data['ml'].str.split(' ').apply(lambda x: x[0])"
   ]
  },
  {
   "cell_type": "code",
   "execution_count": 169,
   "metadata": {
    "collapsed": false
   },
   "outputs": [
    {
     "data": {
      "text/html": [
       "<div>\n",
       "<table border=\"1\" class=\"dataframe\">\n",
       "  <thead>\n",
       "    <tr style=\"text-align: right;\">\n",
       "      <th></th>\n",
       "      <th>it</th>\n",
       "      <th>tl</th>\n",
       "      <th>rl</th>\n",
       "      <th>c</th>\n",
       "      <th>ml</th>\n",
       "      <th>ix</th>\n",
       "      <th>iy</th>\n",
       "      <th>iz</th>\n",
       "      <th>time</th>\n",
       "      <th>x</th>\n",
       "      <th>y</th>\n",
       "      <th>z</th>\n",
       "      <th>data</th>\n",
       "      <th>axis</th>\n",
       "    </tr>\n",
       "  </thead>\n",
       "  <tbody>\n",
       "    <tr>\n",
       "      <th>0</th>\n",
       "      <td>0</td>\n",
       "      <td>0 0 0 0</td>\n",
       "      <td>0 0 0</td>\n",
       "      <td>0.0</td>\n",
       "      <td>-2 -0.0125 -0.0125</td>\n",
       "      <td>-0.000000025065770486998301235059</td>\n",
       "      <td>NaN</td>\n",
       "      <td>NaN</td>\n",
       "      <td>NaN</td>\n",
       "      <td>NaN</td>\n",
       "      <td>NaN</td>\n",
       "      <td>NaN</td>\n",
       "      <td>NaN</td>\n",
       "      <td>-2</td>\n",
       "    </tr>\n",
       "    <tr>\n",
       "      <th>1</th>\n",
       "      <td>0</td>\n",
       "      <td>0 0 0 0</td>\n",
       "      <td>1 1 1</td>\n",
       "      <td>0.0</td>\n",
       "      <td>-1.996875 -0.009375 -0.009375</td>\n",
       "      <td>-0.000000025065770486998301235059</td>\n",
       "      <td>NaN</td>\n",
       "      <td>NaN</td>\n",
       "      <td>NaN</td>\n",
       "      <td>NaN</td>\n",
       "      <td>NaN</td>\n",
       "      <td>NaN</td>\n",
       "      <td>NaN</td>\n",
       "      <td>-1.996875</td>\n",
       "    </tr>\n",
       "    <tr>\n",
       "      <th>2</th>\n",
       "      <td>0</td>\n",
       "      <td>0 0 0 0</td>\n",
       "      <td>2 2 2</td>\n",
       "      <td>0.0</td>\n",
       "      <td>-1.99375 -0.00625 -0.00625</td>\n",
       "      <td>-0.000000000442520717985895021086</td>\n",
       "      <td>NaN</td>\n",
       "      <td>NaN</td>\n",
       "      <td>NaN</td>\n",
       "      <td>NaN</td>\n",
       "      <td>NaN</td>\n",
       "      <td>NaN</td>\n",
       "      <td>NaN</td>\n",
       "      <td>-1.99375</td>\n",
       "    </tr>\n",
       "    <tr>\n",
       "      <th>3</th>\n",
       "      <td>0</td>\n",
       "      <td>0 0 0 0</td>\n",
       "      <td>3 3 3</td>\n",
       "      <td>0.0</td>\n",
       "      <td>-1.990625 -0.003125 -0.003125</td>\n",
       "      <td>0.000000000386254705303512993507</td>\n",
       "      <td>NaN</td>\n",
       "      <td>NaN</td>\n",
       "      <td>NaN</td>\n",
       "      <td>NaN</td>\n",
       "      <td>NaN</td>\n",
       "      <td>NaN</td>\n",
       "      <td>NaN</td>\n",
       "      <td>-1.990625</td>\n",
       "    </tr>\n",
       "    <tr>\n",
       "      <th>4</th>\n",
       "      <td>0</td>\n",
       "      <td>0 0 0 0</td>\n",
       "      <td>4 4 4</td>\n",
       "      <td>0.0</td>\n",
       "      <td>-1.9875 0 0</td>\n",
       "      <td>0.000000000461833564446844994906</td>\n",
       "      <td>NaN</td>\n",
       "      <td>NaN</td>\n",
       "      <td>NaN</td>\n",
       "      <td>NaN</td>\n",
       "      <td>NaN</td>\n",
       "      <td>NaN</td>\n",
       "      <td>NaN</td>\n",
       "      <td>-1.9875</td>\n",
       "    </tr>\n",
       "  </tbody>\n",
       "</table>\n",
       "</div>"
      ],
      "text/plain": [
       "   it       tl     rl    c                             ml  \\\n",
       "0   0  0 0 0 0  0 0 0  0.0             -2 -0.0125 -0.0125   \n",
       "1   0  0 0 0 0  1 1 1  0.0  -1.996875 -0.009375 -0.009375   \n",
       "2   0  0 0 0 0  2 2 2  0.0     -1.99375 -0.00625 -0.00625   \n",
       "3   0  0 0 0 0  3 3 3  0.0  -1.990625 -0.003125 -0.003125   \n",
       "4   0  0 0 0 0  4 4 4  0.0                    -1.9875 0 0   \n",
       "\n",
       "                                 ix  iy  iz  time   x   y   z  data       axis  \n",
       "0 -0.000000025065770486998301235059 NaN NaN   NaN NaN NaN NaN   NaN         -2  \n",
       "1 -0.000000025065770486998301235059 NaN NaN   NaN NaN NaN NaN   NaN  -1.996875  \n",
       "2 -0.000000000442520717985895021086 NaN NaN   NaN NaN NaN NaN   NaN   -1.99375  \n",
       "3  0.000000000386254705303512993507 NaN NaN   NaN NaN NaN NaN   NaN  -1.990625  \n",
       "4  0.000000000461833564446844994906 NaN NaN   NaN NaN NaN NaN   NaN    -1.9875  "
      ]
     },
     "execution_count": 169,
     "metadata": {},
     "output_type": "execute_result"
    }
   ],
   "source": [
    "data.head()"
   ]
  },
  {
   "cell_type": "code",
   "execution_count": 172,
   "metadata": {
    "collapsed": true
   },
   "outputs": [],
   "source": [
    "x = data['axis']\n",
    "y = data['ix']"
   ]
  },
  {
   "cell_type": "code",
   "execution_count": 181,
   "metadata": {
    "collapsed": false
   },
   "outputs": [
    {
     "data": {
      "text/plain": [
       "[<matplotlib.lines.Line2D at 0x7fe7087037f0>]"
      ]
     },
     "execution_count": 181,
     "metadata": {},
     "output_type": "execute_result"
    },
    {
     "data": {
      "image/png": "[encoded data removed]",
      "text/plain": [
       "<matplotlib.figure.Figure at 0x7fe708742630>"
      ]
     },
     "metadata": {},
     "output_type": "display_data"
    }
   ],
   "source": [
    "plt.plot(x, np.log10(abs(y)), 'ro')"
   ]
  },
  {
   "cell_type": "code",
   "execution_count": 182,
   "metadata": {
    "collapsed": true
   },
   "outputs": [],
   "source": [
    "manybhDirArr=['manybhnear_1bh_nop_nos_12x13x17','manybhnear_1bh_nop_nos_16x17x25','manybhnear_1bh_nop_nos_24x25x33','manybhnear_1bh_nop_nos_32x33x41','manybhnear_1bh_nop_nos_40x41x49','manybhmid_1bh_nop_nos_12x13x17','manybhmid_1bh_nop_nos_16x17x25','manybhmid_1bh_nop_nos_24x25x33','manybhmid_1bh_nop_nos_32x33x41','manybhmid_1bh_nop_nos_40x41x49','manybhfar_1bh_nop_nos_12x13x17','manybhfar_1bh_nop_nos_16x17x25','manybhfar_1bh_nop_nos_24x25x33','manybhfar_1bh_nop_nos_32x33x41','manybhfar_1bh_nop_nos_40x41x49']"
   ]
  },
  {
   "cell_type": "code",
   "execution_count": 256,
   "metadata": {
    "collapsed": false
   },
   "outputs": [],
   "source": [
    "manybh = pd.DataFrame(manybhDirArr, columns=['dir'])\n",
    "manybh['zone'] = manybh.dir.str.split('_').apply(lambda x: x[0][6:len(x[0])])\n",
    "manybh['res'] = manybh.dir.str.split('_').apply(lambda x: x[-1])"
   ]
  },
  {
   "cell_type": "code",
   "execution_count": 280,
   "metadata": {
    "collapsed": false
   },
   "outputs": [],
   "source": [
    "manybh['data'] = None"
   ]
  },
  {
   "cell_type": "code",
   "execution_count": 285,
   "metadata": {
    "collapsed": false
   },
   "outputs": [],
   "source": [
    "manybh.loc[0]['data'] = data"
   ]
  },
  {
   "cell_type": "code",
   "execution_count": 287,
   "metadata": {
    "collapsed": false
   },
   "outputs": [
    {
     "name": "stdout",
     "output_type": "stream",
     "text": [
      "<class 'pandas.core.frame.DataFrame'>\n",
      "RangeIndex: 15 entries, 0 to 14\n",
      "Data columns (total 4 columns):\n",
      "dir     15 non-null object\n",
      "zone    15 non-null object\n",
      "res     15 non-null object\n",
      "data    1 non-null object\n",
      "dtypes: object(4)\n",
      "memory usage: 560.0+ bytes\n"
     ]
    }
   ],
   "source": [
    "manybh.info()"
   ]
  },
  {
   "cell_type": "code",
   "execution_count": 296,
   "metadata": {
    "collapsed": false
   },
   "outputs": [
    {
     "data": {
      "text/html": [
       "<div>\n",
       "<table border=\"1\" class=\"dataframe\">\n",
       "  <thead>\n",
       "    <tr style=\"text-align: right;\">\n",
       "      <th></th>\n",
       "      <th>dir</th>\n",
       "      <th>zone</th>\n",
       "      <th>res</th>\n",
       "      <th>data</th>\n",
       "    </tr>\n",
       "  </thead>\n",
       "  <tbody>\n",
       "    <tr>\n",
       "      <th>0</th>\n",
       "      <td>manybhnear_1bh_nop_nos_12x13x17</td>\n",
       "      <td>near</td>\n",
       "      <td>12x13x17</td>\n",
       "      <td>it       tl     rl    c                    ...</td>\n",
       "    </tr>\n",
       "    <tr>\n",
       "      <th>1</th>\n",
       "      <td>manybhnear_1bh_nop_nos_16x17x25</td>\n",
       "      <td>near</td>\n",
       "      <td>16x17x25</td>\n",
       "      <td>None</td>\n",
       "    </tr>\n",
       "    <tr>\n",
       "      <th>2</th>\n",
       "      <td>manybhnear_1bh_nop_nos_24x25x33</td>\n",
       "      <td>near</td>\n",
       "      <td>24x25x33</td>\n",
       "      <td>None</td>\n",
       "    </tr>\n",
       "    <tr>\n",
       "      <th>3</th>\n",
       "      <td>manybhnear_1bh_nop_nos_32x33x41</td>\n",
       "      <td>near</td>\n",
       "      <td>32x33x41</td>\n",
       "      <td>None</td>\n",
       "    </tr>\n",
       "    <tr>\n",
       "      <th>4</th>\n",
       "      <td>manybhnear_1bh_nop_nos_40x41x49</td>\n",
       "      <td>near</td>\n",
       "      <td>40x41x49</td>\n",
       "      <td>None</td>\n",
       "    </tr>\n",
       "    <tr>\n",
       "      <th>5</th>\n",
       "      <td>manybhmid_1bh_nop_nos_12x13x17</td>\n",
       "      <td>mid</td>\n",
       "      <td>12x13x17</td>\n",
       "      <td>None</td>\n",
       "    </tr>\n",
       "    <tr>\n",
       "      <th>6</th>\n",
       "      <td>manybhmid_1bh_nop_nos_16x17x25</td>\n",
       "      <td>mid</td>\n",
       "      <td>16x17x25</td>\n",
       "      <td>None</td>\n",
       "    </tr>\n",
       "    <tr>\n",
       "      <th>7</th>\n",
       "      <td>manybhmid_1bh_nop_nos_24x25x33</td>\n",
       "      <td>mid</td>\n",
       "      <td>24x25x33</td>\n",
       "      <td>None</td>\n",
       "    </tr>\n",
       "    <tr>\n",
       "      <th>8</th>\n",
       "      <td>manybhmid_1bh_nop_nos_32x33x41</td>\n",
       "      <td>mid</td>\n",
       "      <td>32x33x41</td>\n",
       "      <td>None</td>\n",
       "    </tr>\n",
       "    <tr>\n",
       "      <th>9</th>\n",
       "      <td>manybhmid_1bh_nop_nos_40x41x49</td>\n",
       "      <td>mid</td>\n",
       "      <td>40x41x49</td>\n",
       "      <td>None</td>\n",
       "    </tr>\n",
       "    <tr>\n",
       "      <th>10</th>\n",
       "      <td>manybhfar_1bh_nop_nos_12x13x17</td>\n",
       "      <td>far</td>\n",
       "      <td>12x13x17</td>\n",
       "      <td>None</td>\n",
       "    </tr>\n",
       "    <tr>\n",
       "      <th>11</th>\n",
       "      <td>manybhfar_1bh_nop_nos_16x17x25</td>\n",
       "      <td>far</td>\n",
       "      <td>16x17x25</td>\n",
       "      <td>None</td>\n",
       "    </tr>\n",
       "    <tr>\n",
       "      <th>12</th>\n",
       "      <td>manybhfar_1bh_nop_nos_24x25x33</td>\n",
       "      <td>far</td>\n",
       "      <td>24x25x33</td>\n",
       "      <td>None</td>\n",
       "    </tr>\n",
       "    <tr>\n",
       "      <th>13</th>\n",
       "      <td>manybhfar_1bh_nop_nos_32x33x41</td>\n",
       "      <td>far</td>\n",
       "      <td>32x33x41</td>\n",
       "      <td>None</td>\n",
       "    </tr>\n",
       "    <tr>\n",
       "      <th>14</th>\n",
       "      <td>manybhfar_1bh_nop_nos_40x41x49</td>\n",
       "      <td>far</td>\n",
       "      <td>40x41x49</td>\n",
       "      <td>None</td>\n",
       "    </tr>\n",
       "  </tbody>\n",
       "</table>\n",
       "</div>"
      ],
      "text/plain": [
       "                                dir  zone       res  \\\n",
       "0   manybhnear_1bh_nop_nos_12x13x17  near  12x13x17   \n",
       "1   manybhnear_1bh_nop_nos_16x17x25  near  16x17x25   \n",
       "2   manybhnear_1bh_nop_nos_24x25x33  near  24x25x33   \n",
       "3   manybhnear_1bh_nop_nos_32x33x41  near  32x33x41   \n",
       "4   manybhnear_1bh_nop_nos_40x41x49  near  40x41x49   \n",
       "5    manybhmid_1bh_nop_nos_12x13x17   mid  12x13x17   \n",
       "6    manybhmid_1bh_nop_nos_16x17x25   mid  16x17x25   \n",
       "7    manybhmid_1bh_nop_nos_24x25x33   mid  24x25x33   \n",
       "8    manybhmid_1bh_nop_nos_32x33x41   mid  32x33x41   \n",
       "9    manybhmid_1bh_nop_nos_40x41x49   mid  40x41x49   \n",
       "10   manybhfar_1bh_nop_nos_12x13x17   far  12x13x17   \n",
       "11   manybhfar_1bh_nop_nos_16x17x25   far  16x17x25   \n",
       "12   manybhfar_1bh_nop_nos_24x25x33   far  24x25x33   \n",
       "13   manybhfar_1bh_nop_nos_32x33x41   far  32x33x41   \n",
       "14   manybhfar_1bh_nop_nos_40x41x49   far  40x41x49   \n",
       "\n",
       "                                                 data  \n",
       "0      it       tl     rl    c                    ...  \n",
       "1                                                None  \n",
       "2                                                None  \n",
       "3                                                None  \n",
       "4                                                None  \n",
       "5                                                None  \n",
       "6                                                None  \n",
       "7                                                None  \n",
       "8                                                None  \n",
       "9                                                None  \n",
       "10                                               None  \n",
       "11                                               None  \n",
       "12                                               None  \n",
       "13                                               None  \n",
       "14                                               None  "
      ]
     },
     "execution_count": 296,
     "metadata": {},
     "output_type": "execute_result"
    }
   ],
   "source": [
    "manybh"
   ]
  },
  {
   "cell_type": "code",
   "execution_count": null,
   "metadata": {
    "collapsed": true
   },
   "outputs": [],
   "source": []
  }
 ],
 "metadata": {
  "kernelspec": {
   "display_name": "Python 3",
   "language": "python",
   "name": "python3"
  },
  "language_info": {
   "codemirror_mode": {
    "name": "ipython",
    "version": 3
   },
   "file_extension": ".py",
   "mimetype": "text/x-python",
   "name": "python",
   "nbconvert_exporter": "python",
   "pygments_lexer": "ipython3",
   "version": "3.5.1"
  }
 },
 "nbformat": 4,
 "nbformat_minor": 0
}
