{
 "cells": [
  {
   "cell_type": "markdown",
   "metadata": {},
   "source": [
    "# One BH Simulation (Static case and boosted cases)"
   ]
  },
  {
   "cell_type": "markdown",
   "metadata": {},
   "source": [
    "\n",
    "#--------------------------------------------------------------------------------------- \n",
    "### Grid Parameters:\n",
    "#--------------------------------------------------------------------------------------- \n",
    "\n",
    "- grid::type = \"Byrange\"\n",
    "- grid::domain = \"full\"\n",
    "- grid::dxyz = 0.003125\n",
    "- grid::xmin = 4.9375\n",
    "- grid::ymin = 4.9375\n",
    "- grid::zmin = 4.9375\n",
    "- grid::xmax = 5.0625\n",
    "- grid::ymax = 5.0625\n",
    "- grid::zmax = 5.0625\n",
    "- \n",
    "- driver::global_nx = 41\n",
    "- driver::global_ny = 41\n",
    "- driver::global_nz = 41\n",
    "- driver::ghost_size = 3\n",
    "- \n",
    "- CoordBase::boundary_size_x_lower = 3\n",
    "- CoordBase::boundary_size_x_upper = 3\n",
    "- CoordBase::boundary_size_y_lower = 3\n",
    "- CoordBase::boundary_size_y_upper = 3\n",
    "- CoordBase::boundary_size_z_lower = 3\n",
    "- CoordBase::boundary_size_z_upper = 3\n",
    "- \n",
    "- IOASCII::out1D_xline_y = 5\n",
    "- IOASCII::out1D_xline_z = 5\n",
    "- \n",
    "- IOASCII::out1D_yline_x = 5\n",
    "- IOASCII::out1D_yline_z = 5\n",
    "- \n",
    "- IOASCII::out1D_zline_x = 5\n",
    "- IOASCII::out1D_zline_y = 5\n",
    "- \n",
    "- #--------------------------------------------------------------------------------------- \n",
    "- ### ManyBH Parameters:\n",
    "- #--------------------------------------------------------------------------------------- \n",
    "- \n",
    "- ManyBH :: nz        = 14\n",
    "- ManyBH :: np        = 40\n",
    "- ManyBH :: nt        = 41\n",
    "- ManyBH :: nr        = 49\n",
    "- \n",
    "- ManyBH :: precis    = 1.0e-9\n",
    "- ManyBH :: ite_max   = 500\n",
    "- ManyBH :: relax     = 0.5\n",
    "- \n",
    "- ManyBH :: puncpower   = 0.25\n",
    "- ManyBH :: rsurf     = 0.1\n",
    "- ManyBH :: nbh = 1\n",
    "- \n",
    "- ManyBH :: mbh[0] = 1\n",
    "- ManyBH :: sbh[0] = 0.0\n",
    "- ManyBH :: sbh[1] = 0.0\n",
    "- ManyBH :: sbh[2] = 0.0\n",
    "- ManyBH :: xbh[0] = 3.0\n",
    "- ManyBH :: xbh[1] = 0.5\n",
    "- ManyBH :: xbh[2] = 0.5"
   ]
  },
  {
   "cell_type": "markdown",
   "metadata": {},
   "source": [
    "## Simulations 1\n",
    "- ManyBH :: pbh[0] = 0.0\n",
    "- ManyBH :: pbh[1] = 0.0\n",
    "- ManyBH :: pbh[2] = 0.0"
   ]
  },
  {
   "cell_type": "markdown",
   "metadata": {},
   "source": [
    "<img src=\"1BH_P0.0_NoS/1bh_p0.0_nos/plots/near/manybhnear_1bh_p0.0_nos_40x41x49_x.png\">"
   ]
  },
  {
   "cell_type": "markdown",
   "metadata": {},
   "source": [
    "## Simulations 2\n",
    "- ManyBH :: pbh[0] = 0.1\n",
    "- ManyBH :: pbh[1] = 0.0\n",
    "- ManyBH :: pbh[2] = 0.0"
   ]
  },
  {
   "cell_type": "markdown",
   "metadata": {},
   "source": [
    "<img src=\"1BH_P0.1_NoS/1bh_p0.1_nos/plots/near/manybhnear_1bh_p0.1_nos_40x41x49_x.png\">"
   ]
  },
  {
   "cell_type": "markdown",
   "metadata": {},
   "source": [
    "## Simulations 3\n",
    "- ManyBH :: pbh[0] = 0.3\n",
    "- ManyBH :: pbh[1] = 0.0\n",
    "- ManyBH :: pbh[2] = 0.0"
   ]
  },
  {
   "cell_type": "markdown",
   "metadata": {},
   "source": [
    "<img src=\"1BH_P0.3_NoS/1bh_p0.3_nos/plots/near/manybhnear_1bh_p0.3_nos_40x41x49_x.png\">"
   ]
  },
  {
   "cell_type": "markdown",
   "metadata": {},
   "source": [
    "## Simulations 4\n",
    "- ManyBH :: pbh[0] = 0.5\n",
    "- ManyBH :: pbh[1] = 0.0\n",
    "- ManyBH :: pbh[2] = 0.0"
   ]
  },
  {
   "cell_type": "markdown",
   "metadata": {
    "collapsed": true
   },
   "source": [
    "<img src=\"1BH_P0.5_NoS/1bh_p0.5_nos/plots/near/manybhnear_1bh_p0.5_nos_40x41x49_x.png\">"
   ]
  },
  {
   "cell_type": "markdown",
   "metadata": {},
   "source": [
    "## Simulations 5\n",
    "- ManyBH :: pbh[0] = 0.75\n",
    "- ManyBH :: pbh[1] = 0.0\n",
    "- ManyBH :: pbh[2] = 0.0"
   ]
  },
  {
   "cell_type": "markdown",
   "metadata": {},
   "source": [
    "<img src=\"1BH_P0.75_NoS/1bh_p0.75_nos/plots/near/manybhnear_1bh_p0.75_nos_40x41x49_x.png\">"
   ]
  },
  {
   "cell_type": "markdown",
   "metadata": {},
   "source": []
  },
  {
   "cell_type": "code",
   "execution_count": null,
   "metadata": {
    "collapsed": true
   },
   "outputs": [],
   "source": []
  }
 ],
 "metadata": {
  "kernelspec": {
   "display_name": "Python 2",
   "language": "python",
   "name": "python2"
  },
  "language_info": {
   "codemirror_mode": {
    "name": "ipython",
    "version": 2
   },
   "file_extension": ".py",
   "mimetype": "text/x-python",
   "name": "python",
   "nbconvert_exporter": "python",
   "pygments_lexer": "ipython2",
   "version": "2.7.12"
  }
 },
 "nbformat": 4,
 "nbformat_minor": 0
}
